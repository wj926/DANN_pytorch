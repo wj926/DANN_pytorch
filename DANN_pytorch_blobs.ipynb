{
 "cells": [
  {
   "cell_type": "code",
   "execution_count": 2,
   "metadata": {
    "collapsed": true
   },
   "outputs": [],
   "source": [
    "import numpy as np\n",
    "\n",
    "import torch\n",
    "import torch.nn as nn\n",
    "import torch.optim as optim\n",
    "import torch.nn.functional as F\n",
    "from torch.autograd import Variable, Function"
   ]
  },
  {
   "cell_type": "code",
   "execution_count": 3,
   "metadata": {
    "collapsed": true
   },
   "outputs": [],
   "source": [
    "from sklearn.datasets import make_moons, make_blobs\n",
    "from sklearn.decomposition import PCA\n",
    "from sklearn.metrics import accuracy_score"
   ]
  },
  {
   "cell_type": "markdown",
   "metadata": {},
   "source": [
    "# Hyper Parameter"
   ]
  },
  {
   "cell_type": "code",
   "execution_count": 4,
   "metadata": {
    "collapsed": true
   },
   "outputs": [],
   "source": [
    "imput_dim =2\n",
    "hidden_dim =200\n",
    "feature_dim =100\n",
    "class_num=10\n",
    "classnum=1"
   ]
  },
  {
   "cell_type": "code",
   "execution_count": 20,
   "metadata": {
    "collapsed": true
   },
   "outputs": [],
   "source": [
    "learning_rate = 1e-2          # learning rate\n",
    "num_epochs = 5               # number of epochs to train models\n",
    "batch_size = 50               # size of image sample per epoch "
   ]
  },
  {
   "cell_type": "markdown",
   "metadata": {
    "collapsed": true
   },
   "source": [
    "# load domain dataset"
   ]
  },
  {
   "cell_type": "code",
   "execution_count": 21,
   "metadata": {
    "collapsed": true
   },
   "outputs": [],
   "source": [
    "Xs_train, ys_train = make_blobs(500, centers=[[0, 0], [0, 1]], cluster_std=0.2)\n",
    "Xt_train, yt_train = make_blobs(500, centers=[[1, -1], [1, 0]], cluster_std=0.2)"
   ]
  },
  {
   "cell_type": "code",
   "execution_count": 22,
   "metadata": {
    "collapsed": true
   },
   "outputs": [],
   "source": [
    "Xs_test, ys_test = make_blobs(500, centers=[[0, 0], [0, 1]], cluster_std=0.2)\n",
    "Xt_test, yt_test = make_blobs(500, centers=[[1, -1], [1, 0]], cluster_std=0.2)"
   ]
  },
  {
   "cell_type": "markdown",
   "metadata": {
    "collapsed": true
   },
   "source": [
    "# Utility Function"
   ]
  },
  {
   "cell_type": "code",
   "execution_count": 23,
   "metadata": {
    "collapsed": true
   },
   "outputs": [],
   "source": [
    "def batch_generator(batch_size, data, labels):\n",
    "    size = data.shape[0]\n",
    "    idx_array = np.arange(size)\n",
    "    n_batch = int(np.ceil(size / float(batch_size)))\n",
    "    batches = [(int(i * batch_size), int(min(size, (i + 1) * batch_size))) for i in range(n_batch)]\n",
    "    for batch_index, (start, end) in enumerate(batches):\n",
    "        print('\\rBatch {}/{}'.format(batch_index+1, n_batch), end='')\n",
    "        batch_ids = idx_array[start:end]\n",
    "        if labels is not None:\n",
    "            yield Variable(torch.from_numpy(data[batch_ids])), Variable(torch.from_numpy(labels[batch_ids])), batch_ids\n",
    "        else:\n",
    "            yield Variable(torch.from_numpy(data[batch_ids])), batch_ids"
   ]
  },
  {
   "cell_type": "code",
   "execution_count": 24,
   "metadata": {
    "collapsed": true
   },
   "outputs": [],
   "source": [
    "def eval_func(Xt_test, yt_test):\n",
    "    out = c_clf(f_ext(Variable(torch.from_numpy(Xt_test[:len(Xt_test)]).float())).view(len(Xt_test), -1))\n",
    "    right=0\n",
    "    for i in range(len(out)):\n",
    "        if out.data.cpu().numpy()[i] - yt_test[i]<0.5:\n",
    "           right += 1\n",
    "    return right/len(Xt_test)"
   ]
  },
  {
   "cell_type": "markdown",
   "metadata": {
    "collapsed": true
   },
   "source": [
    "# DANN MODEL"
   ]
  },
  {
   "cell_type": "code",
   "execution_count": 25,
   "metadata": {
    "collapsed": true
   },
   "outputs": [],
   "source": [
    "class GradReverse(Function):\n",
    "    def __init__(self, lambd):\n",
    "        self.lambd = lambd\n",
    "\n",
    "    def forward(self, x):\n",
    "        return x.view_as(x)\n",
    "\n",
    "    def backward(self, grad_output):\n",
    "        return (grad_output * -self.lambd)\n",
    "\n",
    "def grad_reverse(x, lambd):\n",
    "    return GradReverse(lambd)(x)"
   ]
  },
  {
   "cell_type": "code",
   "execution_count": 26,
   "metadata": {
    "collapsed": true
   },
   "outputs": [],
   "source": [
    "class feature_extract(nn.Module):\n",
    "    def __init__(self, imput_dim, feature_dim):\n",
    "        super(feature_extract, self).__init__()\n",
    "        self.fc1 = nn.Linear(imput_dim, hidden_dim)\n",
    "        self.fc2 = nn.Linear(hidden_dim, feature_dim)\n",
    "\n",
    "    def forward(self, x):\n",
    "        x = F.relu(self.fc1(x))\n",
    "        x = F.relu(self.fc2(x))\n",
    "        return x"
   ]
  },
  {
   "cell_type": "code",
   "execution_count": 27,
   "metadata": {
    "collapsed": true
   },
   "outputs": [],
   "source": [
    "class dann_domain_clf(nn.Module):\n",
    "    def __init__(self):\n",
    "        super(dann_domain_clf, self).__init__()\n",
    "        self.fc1 = nn.Linear(feature_dim, 100) \n",
    "        self.fc2 = nn.Linear(100, 1)\n",
    "        self.drop = nn.Dropout2d(0.25)\n",
    "\n",
    "    def set_lambda(self, lambd):\n",
    "        self.lambd = lambd\n",
    "        \n",
    "    def forward(self, x):\n",
    "        x = grad_reverse(x, self.lambd)\n",
    "        x = F.leaky_relu(self.drop(self.fc1(x)))\n",
    "        x = self.fc2(x)\n",
    "        return F.sigmoid(x)"
   ]
  },
  {
   "cell_type": "code",
   "execution_count": 28,
   "metadata": {
    "collapsed": true
   },
   "outputs": [],
   "source": [
    "class dann_class_clf(nn.Module):\n",
    "    def __init__(self):\n",
    "        super(dann_class_clf, self).__init__()\n",
    "        self.fc1 = nn.Linear(feature_dim, 100)\n",
    "        self.fc2 = nn.Linear(100, 100)\n",
    "        self.fc3 = nn.Linear(100, classnum)\n",
    "        self.drop = nn.Dropout2d(0.2)\n",
    "        \n",
    "    def forward(self, x):\n",
    "        x = F.relu(self.drop(self.fc1(x)))\n",
    "        x = F.relu(self.drop(self.fc2(x)))\n",
    "        x = self.fc3(x)\n",
    "        return F.sigmoid(x)"
   ]
  },
  {
   "cell_type": "code",
   "execution_count": 29,
   "metadata": {
    "collapsed": true
   },
   "outputs": [],
   "source": [
    "f_ext, d_clf, c_clf = feature_extract(imput_dim, feature_dim), dann_domain_clf(), dann_class_clf()"
   ]
  },
  {
   "cell_type": "code",
   "execution_count": 30,
   "metadata": {
    "collapsed": true
   },
   "outputs": [],
   "source": [
    "#loss function"
   ]
  },
  {
   "cell_type": "code",
   "execution_count": 31,
   "metadata": {
    "collapsed": true
   },
   "outputs": [],
   "source": [
    "d_crit = nn.BCELoss()\n",
    "c_crit = nn.BCELoss()"
   ]
  },
  {
   "cell_type": "code",
   "execution_count": 32,
   "metadata": {
    "collapsed": true
   },
   "outputs": [],
   "source": [
    "d_optimizer = optim.SGD(d_clf.parameters(), lr=learning_rate, momentum=0.9)\n",
    "c_optimizer = optim.SGD(c_clf.parameters(), lr=learning_rate, momentum=0.9)\n",
    "f_optimizer = optim.SGD(f_ext.parameters(), lr=learning_rate, momentum=0.9)"
   ]
  },
  {
   "cell_type": "code",
   "execution_count": 33,
   "metadata": {
    "collapsed": true
   },
   "outputs": [],
   "source": [
    "num_steps = num_epochs * (Xs_train.shape[0] / batch_size)\n",
    "yd = Variable(torch.from_numpy(np.hstack([np.repeat(1, int(batch_size / 2)), np.repeat(0, int(batch_size / 2))]).reshape(50, 1)))\n",
    "j = 0"
   ]
  },
  {
   "cell_type": "code",
   "execution_count": 34,
   "metadata": {},
   "outputs": [
    {
     "name": "stdout",
     "output_type": "stream",
     "text": [
      "Training DANN model..\n",
      "\r",
      "Batch 1/20\r",
      "Batch 1/20\r",
      "Epoch         - d_loss: 0.6817 - c_loss: 0.6869\r",
      "Batch 2/20\r",
      "Batch 2/20\r",
      "Epoch         - d_loss: 0.6843 - c_loss: 0.6962\r",
      "Batch 3/20\r",
      "Batch 3/20\r",
      "Epoch         - d_loss: 0.6799 - c_loss: 0.6837\r",
      "Batch 4/20\r",
      "Batch 4/20\r",
      "Epoch         - d_loss: 0.6789 - c_loss: 0.7126\r",
      "Batch 5/20\r",
      "Batch 5/20\r",
      "Epoch         - d_loss: 0.6748 - c_loss: 0.6870\r",
      "Batch 6/20\r",
      "Batch 6/20\r",
      "Epoch         - d_loss: 0.6791 - c_loss: 0.6851\r",
      "Batch 7/20\r",
      "Batch 7/20"
     ]
    },
    {
     "name": "stderr",
     "output_type": "stream",
     "text": [
      "/home/tako/anaconda3/envs/pytorch2/lib/python3.6/site-packages/torch/nn/functional.py:767: UserWarning: Using a target size (torch.Size([25])) that is different to the input size (torch.Size([25, 1])) is deprecated. Please ensure they have the same size.\n",
      "  \"Please ensure they have the same size.\".format(target.size(), input.size()))\n"
     ]
    },
    {
     "name": "stdout",
     "output_type": "stream",
     "text": [
      "Epoch         - d_loss: 0.6793 - c_loss: 0.6872 - target_acc: 0.5240 - source_acc: 0.5100\n",
      "Epoch         - d_loss: 0.6912 - c_loss: 0.6721 - target_acc: 0.8900 - source_acc: 0.7920\n",
      "Epoch         - d_loss: 0.6840 - c_loss: 0.6308 - target_acc: 0.9780 - source_acc: 0.9520\n",
      "Epoch         - d_loss: 0.6936 - c_loss: 0.4945 - target_acc: 0.8920 - source_acc: 0.9560\n",
      "Epoch         - d_loss: 0.6102 - c_loss: 0.2313 - target_acc: 0.9620 - source_acc: 0.9740\n"
     ]
    }
   ],
   "source": [
    "# train DANN model\n",
    "print('Training DANN model..')\n",
    "for i in range(num_epochs):\n",
    "    source_gen = batch_generator(int(batch_size / 2), Xs_train, ys_train)\n",
    "    target_gen = batch_generator(int(batch_size / 2), Xt_train, None)\n",
    "\n",
    "    # iterate over batches\n",
    "    for (xs, ys, _) in source_gen:\n",
    "        p = float(j) / num_steps\n",
    "        lambd = round(2. / (1. + np.exp(-10. * p)) - 1, 3)\n",
    "        lr = learning_rate / (1. + 10 * p)**0.75\n",
    "        d_clf.set_lambda(lambd)\n",
    "        d_optimizer.lr = lr\n",
    "        c_optimizer.lr = lr\n",
    "        f_optimizer.lr = lr\n",
    "        j += 1\n",
    "        \n",
    "        # get next target batch\n",
    "        xt, _ = next(target_gen)\n",
    "\n",
    "        # exit when batch size mismatch\n",
    "        if len(xs) + len(xt) != batch_size:\n",
    "            print('aa')\n",
    "            continue\n",
    "        \n",
    "        # concatenate source and target batch\n",
    "        x = torch.cat([xs, xt], 0)\n",
    "        \n",
    "        # 1) train feature_extractor and class_classifier on source batch\n",
    "        # reset gradients\n",
    "        f_ext.zero_grad()\n",
    "        c_clf.zero_grad()\n",
    "        \n",
    "        # calculate class_classifier predictions on batch xs\n",
    "        c_out = c_clf(f_ext(xs.float()).view(int(batch_size / 2), -1))\n",
    "\n",
    "        # optimize feature_extractor and class_classifier on output\n",
    "        f_c_loss = c_crit(c_out, ys.float())\n",
    "        f_c_loss.backward(retain_graph = True)\n",
    "        c_optimizer.step()\n",
    "        f_optimizer.step()\n",
    "\n",
    "        # 2) train feature_extractor and domain_classifier on full batch x\n",
    "        # reset gradients\n",
    "        f_ext.zero_grad()\n",
    "        d_clf.zero_grad()\n",
    "        \n",
    "        # calculate domain_classifier predictions on batch x\n",
    "        f_ext(x.float())\n",
    "        d_out = d_clf(f_ext(x.float()).view(batch_size, -1))\n",
    "        \n",
    "        # use normal gradients to optimize domain_classifier\n",
    "        f_d_loss = d_crit(d_out, yd.float())\n",
    "        f_d_loss.backward(retain_graph = True)\n",
    "        d_optimizer.step()\n",
    "        f_optimizer.step()\n",
    "        \n",
    "        # print batch statistics\n",
    "        print('\\rEpoch         - d_loss: {} - c_loss: {}'.format(format(f_d_loss.data[0], '.4f'),\n",
    "                            format(f_c_loss.data[0], '.4f')), end='')           \n",
    "    \n",
    "    # print epoch statistics\n",
    "    t_acc = eval_func(Xt_test, yt_test)\n",
    "    s_acc = eval_func(Xs_test, ys_test)\n",
    "    #t_acc = eval_clf(c_clf, f_ext, Xt_test, yt_test, Xt_test[0])\n",
    "    #s_acc = eval_clf(c_clf, f_ext, Xs_test, ys_test, Xs_test[0])\n",
    "    print(' - target_acc: {} - source_acc: {}'.format(format(t_acc, '.4f'), format(s_acc, '.4f')))"
   ]
  },
  {
   "cell_type": "code",
   "execution_count": null,
   "metadata": {
    "collapsed": true
   },
   "outputs": [],
   "source": []
  }
 ],
 "metadata": {
  "kernelspec": {
   "display_name": "Python 3",
   "language": "python",
   "name": "python3"
  },
  "language_info": {
   "codemirror_mode": {
    "name": "ipython",
    "version": 3
   },
   "file_extension": ".py",
   "mimetype": "text/x-python",
   "name": "python",
   "nbconvert_exporter": "python",
   "pygments_lexer": "ipython3",
   "version": "3.6.2"
  }
 },
 "nbformat": 4,
 "nbformat_minor": 2
}
