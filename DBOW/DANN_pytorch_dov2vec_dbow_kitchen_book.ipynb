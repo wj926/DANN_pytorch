{
 "cells": [
  {
   "cell_type": "code",
   "execution_count": 1,
   "metadata": {
    "collapsed": true
   },
   "outputs": [],
   "source": [
    "import numpy as np\n",
    "import pickle \n",
    "import torch\n",
    "import torch.nn as nn\n",
    "import torch.optim as optim\n",
    "import torch.nn.functional as F\n",
    "from torch.autograd import Variable, Function"
   ]
  },
  {
   "cell_type": "code",
   "execution_count": 2,
   "metadata": {
    "collapsed": true
   },
   "outputs": [],
   "source": [
    "from sklearn.datasets import make_moons, make_blobs\n",
    "from sklearn.decomposition import PCA\n",
    "from sklearn.metrics import accuracy_score"
   ]
  },
  {
   "cell_type": "code",
   "execution_count": 3,
   "metadata": {
    "collapsed": true
   },
   "outputs": [],
   "source": [
    "train_size=2500\n",
    "test_size=500"
   ]
  },
  {
   "cell_type": "code",
   "execution_count": 4,
   "metadata": {
    "collapsed": true
   },
   "outputs": [],
   "source": [
    "data_path = '/home/tako/saerom/data/'"
   ]
  },
  {
   "cell_type": "code",
   "execution_count": 5,
   "metadata": {
    "collapsed": true
   },
   "outputs": [],
   "source": [
    "src='kitchen'\n",
    "tgt='books'"
   ]
  },
  {
   "cell_type": "code",
   "execution_count": 6,
   "metadata": {
    "collapsed": true
   },
   "outputs": [],
   "source": [
    "f = open(data_path+'doc2vec'+'_source_'+src+'_target_'+tgt+'_dbow_data.pickle','rb')\n",
    "aa = pickle.load(f)\n",
    "f.close()"
   ]
  },
  {
   "cell_type": "code",
   "execution_count": 7,
   "metadata": {
    "collapsed": true
   },
   "outputs": [],
   "source": [
    "Xs_train = aa['docvec'][aa['st_label']==1][:train_size]\n",
    "ys_train = (aa['true_label'][aa['st_label']==1][:train_size] + 1)/2\n",
    "Xt_train = aa['docvec'][aa['st_label']==0][:train_size]\n",
    "yt_train = (aa['true_label'][aa['st_label']==0][:train_size] + 1)/2\n",
    "Xs_test = aa['docvec'][aa['st_label']==1][-test_size:]\n",
    "ys_test = (aa['true_label'][aa['st_label']==1][-test_size:] +1 )/2\n",
    "Xt_test = aa['docvec'][aa['st_label']==0][-test_size:]\n",
    "yt_test = (aa['true_label'][aa['st_label']==0][-test_size:] +1 )/2"
   ]
  },
  {
   "cell_type": "code",
   "execution_count": null,
   "metadata": {
    "collapsed": true
   },
   "outputs": [],
   "source": []
  },
  {
   "cell_type": "code",
   "execution_count": 8,
   "metadata": {
    "collapsed": true
   },
   "outputs": [],
   "source": [
    "imput_dim = Xs_train.shape[1]\n",
    "hidden_dim =200\n",
    "feature_dim =100\n",
    "classnum=1\n",
    "\n",
    "learning_rate = 1e-2          # learning rate\n",
    "num_epochs = 50               # number of epochs to train models\n",
    "batch_size = 100               # size of image sample per epoch "
   ]
  },
  {
   "cell_type": "code",
   "execution_count": 9,
   "metadata": {
    "collapsed": true
   },
   "outputs": [],
   "source": [
    "# load source domain dataset"
   ]
  },
  {
   "cell_type": "code",
   "execution_count": 10,
   "metadata": {
    "collapsed": true
   },
   "outputs": [],
   "source": [
    "def eval_func(Xt_test, yt_test):\n",
    "    out = c_clf(f_ext(Variable(torch.from_numpy(Xt_test[:len(Xt_test)]).float())).view(len(Xt_test), -1))\n",
    "    right=0\n",
    "    for i in range(len(out)):\n",
    "        if out.data.cpu().numpy()[i] - yt_test[i]<0.5:\n",
    "           right += 1\n",
    "    return right/len(Xt_test)"
   ]
  },
  {
   "cell_type": "code",
   "execution_count": 11,
   "metadata": {
    "collapsed": true
   },
   "outputs": [],
   "source": [
    "#batch"
   ]
  },
  {
   "cell_type": "code",
   "execution_count": 12,
   "metadata": {
    "collapsed": true
   },
   "outputs": [],
   "source": [
    "def batch_generator(batch_size, data, labels):\n",
    "    size = data.shape[0]\n",
    "    idx_array = np.arange(size)\n",
    "    n_batch = int(np.ceil(size / float(batch_size)))\n",
    "    batches = [(int(i * batch_size), int(min(size, (i + 1) * batch_size))) for i in range(n_batch)]\n",
    "    for batch_index, (start, end) in enumerate(batches):\n",
    "        print('\\rBatch {}/{}'.format(batch_index+1, n_batch), end='')\n",
    "        batch_ids = idx_array[start:end]\n",
    "        if labels is not None:\n",
    "            yield Variable(torch.from_numpy(data[batch_ids])), Variable(torch.from_numpy(labels[batch_ids])), batch_ids\n",
    "        else:\n",
    "            yield Variable(torch.from_numpy(data[batch_ids])), batch_ids"
   ]
  },
  {
   "cell_type": "code",
   "execution_count": 13,
   "metadata": {
    "collapsed": true
   },
   "outputs": [],
   "source": [
    "def eval_clf(model1, model2, x, y, n):\n",
    "    out = model1(model2(Variable(torch.from_numpy(x[:n]).float())).view(n, -1))\n",
    "    preds = out.max(1)[1]\n",
    "    return accuracy_score(y_true=[np.argmax(i) for i in y[:n]], y_pred=preds.data.numpy().ravel())\n"
   ]
  },
  {
   "cell_type": "code",
   "execution_count": 14,
   "metadata": {
    "collapsed": true
   },
   "outputs": [],
   "source": [
    "#DANN MODEL"
   ]
  },
  {
   "cell_type": "code",
   "execution_count": 15,
   "metadata": {
    "collapsed": true
   },
   "outputs": [],
   "source": [
    "class GradReverse(Function):\n",
    "    def __init__(self, lambd):\n",
    "        self.lambd = lambd\n",
    "\n",
    "    def forward(self, x):\n",
    "        return x.view_as(x)\n",
    "\n",
    "    def backward(self, grad_output):\n",
    "        return (grad_output * -self.lambd)\n",
    "\n",
    "def grad_reverse(x, lambd):\n",
    "    return GradReverse(lambd)(x)"
   ]
  },
  {
   "cell_type": "code",
   "execution_count": 16,
   "metadata": {
    "collapsed": true
   },
   "outputs": [],
   "source": [
    "class feature_extract(nn.Module):\n",
    "    def __init__(self, imput_dim, feature_dim):\n",
    "        super(feature_extract, self).__init__()\n",
    "        self.fc1 = nn.Linear(imput_dim, hidden_dim)\n",
    "        self.fc2 = nn.Linear(hidden_dim, feature_dim)\n",
    "\n",
    "    def forward(self, x):\n",
    "        x = F.relu(self.fc1(x))\n",
    "        x = F.relu(self.fc2(x))\n",
    "        return x"
   ]
  },
  {
   "cell_type": "code",
   "execution_count": 17,
   "metadata": {
    "collapsed": true
   },
   "outputs": [],
   "source": [
    "class dann_domain_clf(nn.Module):\n",
    "    def __init__(self):\n",
    "        super(dann_domain_clf, self).__init__()\n",
    "        self.fc1 = nn.Linear(feature_dim, 100) \n",
    "        self.fc2 = nn.Linear(100, 1)\n",
    "        self.drop = nn.Dropout2d(0.25)\n",
    "\n",
    "    def set_lambda(self, lambd):\n",
    "        self.lambd = lambd\n",
    "        \n",
    "    def forward(self, x):\n",
    "        x = grad_reverse(x, self.lambd)\n",
    "        x = F.leaky_relu(self.drop(self.fc1(x)))\n",
    "        x = self.fc2(x)\n",
    "        return F.sigmoid(x)"
   ]
  },
  {
   "cell_type": "code",
   "execution_count": 18,
   "metadata": {
    "collapsed": true
   },
   "outputs": [],
   "source": [
    "class dann_class_clf(nn.Module):\n",
    "    def __init__(self):\n",
    "        super(dann_class_clf, self).__init__()\n",
    "        self.fc1 = nn.Linear(feature_dim, 100)\n",
    "        self.fc2 = nn.Linear(100, 100)\n",
    "        self.fc3 = nn.Linear(100, classnum)\n",
    "        self.drop = nn.Dropout2d(0.2)\n",
    "        \n",
    "    def forward(self, x):\n",
    "        x = F.relu(self.drop(self.fc1(x)))\n",
    "        x = F.relu(self.drop(self.fc2(x)))\n",
    "        x = self.fc3(x)\n",
    "        return F.sigmoid(x)"
   ]
  },
  {
   "cell_type": "code",
   "execution_count": 19,
   "metadata": {
    "collapsed": true
   },
   "outputs": [],
   "source": [
    "f_ext, d_clf, c_clf = feature_extract(imput_dim, feature_dim), dann_domain_clf(), dann_class_clf()"
   ]
  },
  {
   "cell_type": "code",
   "execution_count": 20,
   "metadata": {
    "collapsed": true
   },
   "outputs": [],
   "source": [
    "#loss function"
   ]
  },
  {
   "cell_type": "code",
   "execution_count": 21,
   "metadata": {
    "collapsed": true
   },
   "outputs": [],
   "source": [
    "d_crit = nn.BCELoss()\n",
    "c_crit = nn.BCELoss()"
   ]
  },
  {
   "cell_type": "code",
   "execution_count": 22,
   "metadata": {
    "collapsed": true
   },
   "outputs": [],
   "source": [
    "d_optimizer = optim.SGD(d_clf.parameters(), lr=learning_rate, momentum=0.9)\n",
    "c_optimizer = optim.SGD(c_clf.parameters(), lr=learning_rate, momentum=0.9)\n",
    "f_optimizer = optim.SGD(f_ext.parameters(), lr=learning_rate, momentum=0.9)"
   ]
  },
  {
   "cell_type": "code",
   "execution_count": 23,
   "metadata": {
    "collapsed": true
   },
   "outputs": [],
   "source": [
    "num_steps = num_epochs * (Xs_train.shape[0] / batch_size)\n",
    "yd = Variable(torch.from_numpy(np.hstack([np.repeat(1, int(batch_size / 2)), np.repeat(0, int(batch_size / 2))]).reshape(batch_size, 1)))\n",
    "j = 0"
   ]
  },
  {
   "cell_type": "code",
   "execution_count": 24,
   "metadata": {},
   "outputs": [
    {
     "name": "stdout",
     "output_type": "stream",
     "text": [
      "Training DANN model..\n",
      "\r",
      "Batch 1/50\r",
      "Batch 1/50"
     ]
    },
    {
     "name": "stderr",
     "output_type": "stream",
     "text": [
      "/home/tako/anaconda3/envs/pytorch2/lib/python3.6/site-packages/torch/nn/functional.py:767: UserWarning: Using a target size (torch.Size([50])) that is different to the input size (torch.Size([50, 1])) is deprecated. Please ensure they have the same size.\n",
      "  \"Please ensure they have the same size.\".format(target.size(), input.size()))\n"
     ]
    },
    {
     "name": "stdout",
     "output_type": "stream",
     "text": [
      "Epoch         - d_loss: 0.6935 - c_loss: 0.6940 - target_acc: 0.5288 - source_acc: 0.5312\n",
      "Epoch         - d_loss: 0.6940 - c_loss: 0.6940 - target_acc: 0.5104 - source_acc: 0.5116\n",
      "Epoch         - d_loss: 0.6943 - c_loss: 0.6944 - target_acc: 0.5120 - source_acc: 0.5120\n",
      "Epoch         - d_loss: 0.6942 - c_loss: 0.6951 - target_acc: 0.5148 - source_acc: 0.5156\n",
      "Epoch         - d_loss: 0.6947 - c_loss: 0.6934 - target_acc: 0.5212 - source_acc: 0.5196\n",
      "Epoch         - d_loss: 0.6931 - c_loss: 0.6913 - target_acc: 0.5344 - source_acc: 0.5320\n",
      "Epoch         - d_loss: 0.6921 - c_loss: 0.6920 - target_acc: 0.5420 - source_acc: 0.5440\n",
      "Epoch         - d_loss: 0.6911 - c_loss: 0.6914 - target_acc: 0.5788 - source_acc: 0.5868\n",
      "Epoch         - d_loss: 0.6930 - c_loss: 0.6892 - target_acc: 0.6360 - source_acc: 0.6756\n",
      "Epoch         - d_loss: 0.6935 - c_loss: 0.6760 - target_acc: 0.7232 - source_acc: 0.7724\n",
      "Epoch         - d_loss: 0.6952 - c_loss: 0.6422 - target_acc: 0.8100 - source_acc: 0.8612\n",
      "Epoch         - d_loss: 0.6949 - c_loss: 0.5536 - target_acc: 0.8632 - source_acc: 0.8996\n",
      "Epoch         - d_loss: 0.6925 - c_loss: 0.4001 - target_acc: 0.8876 - source_acc: 0.9140\n",
      "Epoch         - d_loss: 0.6904 - c_loss: 0.3702 - target_acc: 0.8672 - source_acc: 0.9092\n",
      "Epoch         - d_loss: 0.6950 - c_loss: 0.3188 - target_acc: 0.8648 - source_acc: 0.9220\n",
      "Epoch         - d_loss: 0.6947 - c_loss: 0.2855 - target_acc: 0.8700 - source_acc: 0.9292\n",
      "Epoch         - d_loss: 0.6943 - c_loss: 0.2876 - target_acc: 0.8768 - source_acc: 0.9348\n",
      "Epoch         - d_loss: 0.6917 - c_loss: 0.2214 - target_acc: 0.8764 - source_acc: 0.9424\n",
      "Epoch         - d_loss: 0.6887 - c_loss: 0.2304 - target_acc: 0.8904 - source_acc: 0.9572\n",
      "Epoch         - d_loss: 0.6898 - c_loss: 0.1933 - target_acc: 0.9064 - source_acc: 0.9692\n",
      "Epoch         - d_loss: 0.6942 - c_loss: 0.1561 - target_acc: 0.8832 - source_acc: 0.9748\n",
      "Epoch         - d_loss: 0.6954 - c_loss: 0.1137 - target_acc: 0.8788 - source_acc: 0.9816\n",
      "Epoch         - d_loss: 0.6938 - c_loss: 0.1490 - target_acc: 0.8304 - source_acc: 0.9820\n",
      "Epoch         - d_loss: 0.6920 - c_loss: 0.1063 - target_acc: 0.7716 - source_acc: 0.9580\n",
      "Epoch         - d_loss: 0.6898 - c_loss: 0.0296 - target_acc: 0.8488 - source_acc: 0.9944\n",
      "Epoch         - d_loss: 0.6902 - c_loss: 0.0335 - target_acc: 0.8772 - source_acc: 0.9936\n",
      "Epoch         - d_loss: 0.6939 - c_loss: 0.1320 - target_acc: 0.9528 - source_acc: 0.9984\n",
      "Epoch         - d_loss: 0.6906 - c_loss: 0.0622 - target_acc: 0.9540 - source_acc: 0.9992\n",
      "Epoch         - d_loss: 0.6895 - c_loss: 0.1181 - target_acc: 0.7912 - source_acc: 0.9824\n",
      "Epoch         - d_loss: 0.6896 - c_loss: 0.0125 - target_acc: 0.8104 - source_acc: 0.9864\n",
      "Epoch         - d_loss: 0.6921 - c_loss: 0.0056 - target_acc: 0.9236 - source_acc: 1.0000\n",
      "Epoch         - d_loss: 0.6947 - c_loss: 0.0032 - target_acc: 0.9296 - source_acc: 1.0000\n",
      "Epoch         - d_loss: 0.6941 - c_loss: 0.0035 - target_acc: 0.8704 - source_acc: 1.0000\n",
      "Epoch         - d_loss: 0.6935 - c_loss: 0.0077 - target_acc: 0.8580 - source_acc: 1.0000\n",
      "Epoch         - d_loss: 0.6872 - c_loss: 0.0027 - target_acc: 0.8364 - source_acc: 1.0000\n",
      "Epoch         - d_loss: 0.6867 - c_loss: 0.0020 - target_acc: 0.8596 - source_acc: 1.0000\n",
      "Epoch         - d_loss: 0.6866 - c_loss: 0.0012 - target_acc: 0.9012 - source_acc: 1.0000\n",
      "Epoch         - d_loss: 0.6905 - c_loss: 0.0020 - target_acc: 0.8840 - source_acc: 1.0000\n",
      "Epoch         - d_loss: 0.6976 - c_loss: 0.0035 - target_acc: 0.8780 - source_acc: 1.0000\n",
      "Epoch         - d_loss: 0.6939 - c_loss: 0.0017 - target_acc: 0.8900 - source_acc: 1.0000\n",
      "Epoch         - d_loss: 0.6885 - c_loss: 0.0020 - target_acc: 0.9088 - source_acc: 0.9996\n",
      "Epoch         - d_loss: 0.6908 - c_loss: 0.0008 - target_acc: 0.8880 - source_acc: 1.0000\n",
      "Epoch         - d_loss: 0.6943 - c_loss: 0.0009 - target_acc: 0.8676 - source_acc: 1.0000\n",
      "Epoch         - d_loss: 0.6943 - c_loss: 0.0008 - target_acc: 0.8952 - source_acc: 1.0000\n",
      "Epoch         - d_loss: 0.6939 - c_loss: 0.0007 - target_acc: 0.9132 - source_acc: 1.0000\n",
      "Epoch         - d_loss: 0.6931 - c_loss: 0.0007 - target_acc: 0.8912 - source_acc: 1.0000\n",
      "Epoch         - d_loss: 0.6908 - c_loss: 0.0009 - target_acc: 0.8684 - source_acc: 1.0000\n",
      "Epoch         - d_loss: 0.6896 - c_loss: 0.0053 - target_acc: 0.8848 - source_acc: 1.0000\n",
      "Epoch         - d_loss: 0.6918 - c_loss: 0.0004 - target_acc: 0.9124 - source_acc: 1.0000\n",
      "Epoch         - d_loss: 0.6907 - c_loss: 0.0002 - target_acc: 0.8944 - source_acc: 1.0000\n"
     ]
    }
   ],
   "source": [
    "# train DANN model\n",
    "print('Training DANN model..')\n",
    "for i in range(num_epochs):\n",
    "    source_gen = batch_generator(int(batch_size / 2), Xs_train, ys_train)\n",
    "    target_gen = batch_generator(int(batch_size / 2), Xt_train, None)\n",
    "\n",
    "    # iterate over batches\n",
    "    for (xs, ys, _) in source_gen:\n",
    "        p = float(j) / num_steps\n",
    "        lambd = round(2. / (1. + np.exp(-10. * p)) - 1, 3)\n",
    "        lr = 0.01 / (1. + 100 * p)**0.75\n",
    "        d_clf.set_lambda(lambd)\n",
    "        d_optimizer.lr = lr\n",
    "        c_optimizer.lr = lr\n",
    "        f_optimizer.lr = lr\n",
    "        j += 1\n",
    "        \n",
    "        # get next target batch\n",
    "        xt, _ = next(target_gen)\n",
    "\n",
    "        # exit when batch size mismatch\n",
    "        if len(xs) + len(xt) != batch_size:\n",
    "            print('aa')\n",
    "            continue\n",
    "        \n",
    "        # concatenate source and target batch\n",
    "        x = torch.cat([xs, xt], 0)\n",
    "        \n",
    "        # 1) train feature_extractor and class_classifier on source batch\n",
    "        # reset gradients\n",
    "        f_ext.zero_grad()\n",
    "        c_clf.zero_grad()\n",
    "        \n",
    "        # calculate class_classifier predictions on batch xs\n",
    "        c_out = c_clf(f_ext(xs.float()).view(int(batch_size / 2), -1))\n",
    "\n",
    "        # optimize feature_extractor and class_classifier on output\n",
    "        f_c_loss = c_crit(c_out, ys.float())\n",
    "        f_c_loss.backward(retain_graph = True)\n",
    "        c_optimizer.step()\n",
    "        f_optimizer.step()\n",
    "\n",
    "        # 2) train feature_extractor and domain_classifier on full batch x\n",
    "        # reset gradients\n",
    "        f_ext.zero_grad()\n",
    "        d_clf.zero_grad()\n",
    "        \n",
    "        # calculate domain_classifier predictions on batch x\n",
    "        f_ext(x.float())\n",
    "        d_out = d_clf(f_ext(x.float()).view(batch_size, -1))\n",
    "        \n",
    "        # use normal gradients to optimize domain_classifier\n",
    "        f_d_loss = d_crit(d_out, yd.float())\n",
    "        f_d_loss.backward(retain_graph = True)\n",
    "        d_optimizer.step()\n",
    "        f_optimizer.step()\n",
    "        \n",
    "        # print batch statistics\n",
    "        print('\\rEpoch         - d_loss: {} - c_loss: {}'.format(format(f_d_loss.data[0], '.4f'),\n",
    "                            format(f_c_loss.data[0], '.4f')), end='')           \n",
    "    \n",
    "    # print epoch statistics\n",
    "    t_acc = eval_func(Xt_train, yt_train)\n",
    "    s_acc = eval_func(Xs_train, ys_train)\n",
    "    #t_acc = eval_clf(c_clf, f_ext, Xt_test, yt_test, Xt_test[0])\n",
    "    #s_acc = eval_clf(c_clf, f_ext, Xs_test, ys_test, Xs_test[0])\n",
    "    print(' - target_acc: {} - source_acc: {}'.format(format(t_acc, '.4f'), format(s_acc, '.4f')))"
   ]
  },
  {
   "cell_type": "code",
   "execution_count": 25,
   "metadata": {
    "collapsed": true
   },
   "outputs": [],
   "source": [
    "Xs_train = aa['docvec'][aa['st_label']==0][:train_size]\n",
    "ys_train = (aa['true_label'][aa['st_label']==0][:train_size] + 1)/2\n",
    "Xt_train = aa['docvec'][aa['st_label']==1][:train_size]\n",
    "yt_train = (aa['true_label'][aa['st_label']==1][:train_size] + 1)/2\n",
    "Xs_test = aa['docvec'][aa['st_label']==0][-test_size:]\n",
    "ys_test = (aa['true_label'][aa['st_label']==0][-test_size:] +1 )/2\n",
    "Xt_test = aa['docvec'][aa['st_label']==1][-test_size:]\n",
    "yt_test = (aa['true_label'][aa['st_label']==1][-test_size:] +1 )/2"
   ]
  },
  {
   "cell_type": "code",
   "execution_count": null,
   "metadata": {
    "collapsed": true
   },
   "outputs": [],
   "source": []
  }
 ],
 "metadata": {
  "kernelspec": {
   "display_name": "Python 3",
   "language": "python",
   "name": "python3"
  },
  "language_info": {
   "codemirror_mode": {
    "name": "ipython",
    "version": 3
   },
   "file_extension": ".py",
   "mimetype": "text/x-python",
   "name": "python",
   "nbconvert_exporter": "python",
   "pygments_lexer": "ipython3",
   "version": "3.6.2"
  }
 },
 "nbformat": 4,
 "nbformat_minor": 2
}
